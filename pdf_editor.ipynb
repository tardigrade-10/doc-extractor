{
 "cells": [
  {
   "cell_type": "code",
   "execution_count": 10,
   "metadata": {},
   "outputs": [],
   "source": [
    "from PyPDF2 import PdfFileWriter, PdfFileReader\n",
    "import io\n",
    "from reportlab.pdfgen import canvas\n",
    "from reportlab.lib.pagesizes import letter\n",
    "from reportlab.lib import colors"
   ]
  },
  {
   "cell_type": "code",
   "execution_count": 22,
   "metadata": {},
   "outputs": [],
   "source": [
    "import pandas as pd\n",
    "names = pd.read_csv('final_sheet.csv')\n",
    "\n",
    "names_list = names[\"Name\"]\n",
    "names_list = names_list.to_list()\n",
    "# names_list = names_list\n",
    "# names_list = list(map(lambda x: x.split(\" \")[0], names_list))"
   ]
  },
  {
   "cell_type": "code",
   "execution_count": 23,
   "metadata": {},
   "outputs": [
    {
     "data": {
      "text/plain": [
       "['Aakriti Goyal',\n",
       " 'Aanishka Barua',\n",
       " 'Abu Obaida',\n",
       " 'Aditi Dwivedi',\n",
       " 'Aditya swaroop sharma',\n",
       " 'akanksha utkhedkar',\n",
       " 'Amitava Biswas',\n",
       " 'Anupriya',\n",
       " 'Anurag Mishra',\n",
       " 'Aryan Kaushik',\n",
       " 'Chupriya V',\n",
       " 'DEEPSHIKHA MAHAPATRA',\n",
       " 'Dimpy Jindal',\n",
       " 'DR ARUN KUMAR TIWARI',\n",
       " 'Dr. Jitendra Kumar Samriya',\n",
       " 'Dr. Sonal Sharma',\n",
       " 'Ishika Kaushik',\n",
       " 'Joyal Jomon',\n",
       " 'Karishma Sharma',\n",
       " 'Lakshya sharma',\n",
       " 'M.P Janani',\n",
       " 'Mary kesiya km',\n",
       " 'MURALIKA M',\n",
       " 'Namishka Mendonca',\n",
       " 'NANCY PATEL',\n",
       " 'NAVINKUMAR P',\n",
       " 'Nazma',\n",
       " 'Nihal Ibrahim R',\n",
       " 'Nimisha Pithala',\n",
       " 'Pinky bairwa',\n",
       " 'Poonam Falor',\n",
       " 'Prince Verma',\n",
       " 'SHAGUN CHOPRA',\n",
       " 'Shivshankar Jaishekar',\n",
       " 'Shubham sharma',\n",
       " 'Soumya Ranjan Maharana',\n",
       " 'Spondon Jyoti Dutta',\n",
       " 'Sreesh Sundar',\n",
       " 'Uzma Manzoor',\n",
       " 'Vaibhav Nageshwar Wagh',\n",
       " 'VIJOY V DELSON']"
      ]
     },
     "execution_count": 23,
     "metadata": {},
     "output_type": "execute_result"
    }
   ],
   "source": [
    "names_list"
   ]
  },
  {
   "cell_type": "code",
   "execution_count": 11,
   "metadata": {},
   "outputs": [],
   "source": [
    "# # right string\n",
    "\n",
    "# for name in ['fathima sheha']:\n",
    "#     packet = io.BytesIO()\n",
    "#     can = canvas.Canvas(packet, pagesize=letter)\n",
    "#     can.setPageSize((1000, 1000))\n",
    "#     can.setFillColor(aColor=\"orange\")\n",
    "#     can.setFont('Courier', 12.9)\n",
    "#     # can.skew(0, 13)\n",
    "#     can.drawRightString(280, 562.3, name)\n",
    "#     can.save()\n",
    "\n",
    "#     #move to the beginning of the StringIO buffer\n",
    "#     packet.seek(0)\n",
    "\n",
    "#     # create a new PDF with Reportlab\n",
    "#     new_pdf = PdfFileReader(packet)\n",
    "#     # read your existing PDF\n",
    "#     existing_pdf = PdfFileReader(open(\"name.pdf\", \"rb\"))\n",
    "#     output = PdfFileWriter()\n",
    "#     # add the \"watermark\" (which is the new pdf) on the existing page\n",
    "#     page = existing_pdf.getPage(0)\n",
    "#     page.mergePage(new_pdf.getPage(0))\n",
    "#     output.addPage(page)\n",
    "#     # finally, write \"output\" to a real file\n",
    "#     outputStream = open(name + \".pdf\", \"wb\")\n",
    "#     output.write(outputStream)\n",
    "#     outputStream.close()"
   ]
  },
  {
   "cell_type": "code",
   "execution_count": 30,
   "metadata": {},
   "outputs": [],
   "source": [
    "# center string\n",
    "\n",
    "for name in names_list:\n",
    "    name = name.upper()\n",
    "    packet = io.BytesIO()\n",
    "    can = canvas.Canvas(packet, pagesize=letter)\n",
    "    can.setPageSize((1000, 1000))\n",
    "    can.setFillColorRGB(1,0.3,0)\n",
    "    can.setFont('Helvetica', 44)\n",
    "    can.skew(0, 12)\n",
    "    can.scale(0.9, 1)\n",
    "    can.drawCentredString(397, 280, name)\n",
    "    can.save()\n",
    "\n",
    "    #move to the beginning of the StringIO buffer\n",
    "    packet.seek(0)\n",
    "\n",
    "    # create a new PDF with Reportlab\n",
    "    new_pdf = PdfFileReader(packet)\n",
    "    # read your existing PDF\n",
    "    existing_pdf = PdfFileReader(open(\"ieee_aur.pdf\", \"rb\"))\n",
    "    output = PdfFileWriter()\n",
    "    # add the \"watermark\" (which is the new pdf) on the existing page\n",
    "    page = existing_pdf.getPage(0)\n",
    "    page.mergePage(new_pdf.getPage(0))\n",
    "    output.addPage(page)\n",
    "    # finally, write \"output\" to a real file\n",
    "    outputStream = open(name + \".pdf\", \"wb\")\n",
    "    output.write(outputStream)\n",
    "    outputStream.close()"
   ]
  },
  {
   "cell_type": "code",
   "execution_count": null,
   "metadata": {},
   "outputs": [],
   "source": [
    "can.getAvailableFonts()\n",
    "Font_names = ['Courier',\n",
    " 'Courier-Bold',\n",
    " 'Courier-BoldOblique',\n",
    " 'Courier-Oblique',\n",
    " 'Helvetica',\n",
    " 'Helvetica-Bold',\n",
    " 'Helvetica-BoldOblique',\n",
    " 'Helvetica-Oblique',\n",
    " 'Symbol',\n",
    " 'Times-Bold',\n",
    " 'Times-BoldItalic',\n",
    " 'Times-Italic',\n",
    " 'Times-Roman',\n",
    " 'ZapfDingbats']"
   ]
  }
 ],
 "metadata": {
  "kernelspec": {
   "display_name": "Python 3.10.4 64-bit",
   "language": "python",
   "name": "python3"
  },
  "language_info": {
   "codemirror_mode": {
    "name": "ipython",
    "version": 3
   },
   "file_extension": ".py",
   "mimetype": "text/x-python",
   "name": "python",
   "nbconvert_exporter": "python",
   "pygments_lexer": "ipython3",
   "version": "3.10.4"
  },
  "orig_nbformat": 4,
  "vscode": {
   "interpreter": {
    "hash": "369f2c481f4da34e4445cda3fffd2e751bd1c4d706f27375911949ba6bb62e1c"
   }
  }
 },
 "nbformat": 4,
 "nbformat_minor": 2
}
