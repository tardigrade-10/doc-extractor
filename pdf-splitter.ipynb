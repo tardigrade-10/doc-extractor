{
 "cells": [
  {
   "cell_type": "code",
   "execution_count": 2,
   "metadata": {},
   "outputs": [],
   "source": [
    "import sys\n",
    "from PyPDF2 import PdfFileWriter,PdfFileReader"
   ]
  },
  {
   "cell_type": "code",
   "execution_count": 3,
   "metadata": {},
   "outputs": [
    {
     "name": "stdout",
     "output_type": "stream",
     "text": [
      "Pdf splitted successfully\n"
     ]
    }
   ],
   "source": [
    "def pdf_splitter(file, start, end, name_list, deep_splitting = False):\n",
    "    #we will save new splited pdf as \"nameofpdf splitted.pdf\"\n",
    "    #example if pdf name is \"abc.pdf\" then it will be saved as \"abc splitted.pdf\"\n",
    "\n",
    "    read_file = PdfFileReader(open(file,\"rb\")) #read pdf\n",
    "\n",
    "    if deep_splitting == False:\n",
    "        new_file_name = file.split(\".\")[0] + \"-\" + str(start)+ \"-\" + str(end) + \"splitted.pdf\"\n",
    "        new_pdf = PdfFileWriter() #create write object\n",
    "        start-=1\n",
    "   \n",
    "        with open(new_file_name,\"wb\") as f:\n",
    "            for i in range(start, end):\n",
    "                new_pdf.addPage(read_file.getPage(i))\n",
    "                new_pdf.write(f)\n",
    "                i+=1\n",
    "            print(\"PDF splitted Successfully\")\n",
    "            f.close()\n",
    "\n",
    "    else: # split all the pages\n",
    "        for i in range(start-1, end):\n",
    "            # new_file_name = file.split(\".\")[0] + \"-\" + str(i+1) + \"-splitted.pdf\"\n",
    "            new_file_name = name_list[i] + \".pdf\"\n",
    "            new_pdf = PdfFileWriter()\n",
    "\n",
    "            with open(new_file_name, \"wb\") as f:\n",
    "                new_pdf.addPage(read_file.getPage(i))\n",
    "                new_pdf.write(f)\n",
    "            f.close()\n",
    "            \n",
    "        print(\"Pdf splitted successfully\")\n",
    "\n",
    "\n",
    "names = [\"Chekuri Nikhil\",\n",
    "\"Mohammed Madini\",\n",
    "\"Abrar Sayyed\",\n",
    "\"Atharv Joshi\",\n",
    "\"Darshan Lanjewar\",\n",
    "\"MILAN B S\",\n",
    "\"Akshaj Viswanathan\"]\n",
    "\n",
    "pdf_splitter(\"EAML-110722 Certi (1).pdf\",1,7, names, deep_splitting=True)"
   ]
  },
  {
   "cell_type": "code",
   "execution_count": 6,
   "metadata": {},
   "outputs": [
    {
     "data": {
      "text/plain": [
       "[2, 4, 5]"
      ]
     },
     "execution_count": 6,
     "metadata": {},
     "output_type": "execute_result"
    }
   ],
   "source": []
  },
  {
   "cell_type": "code",
   "execution_count": null,
   "metadata": {},
   "outputs": [],
   "source": []
  }
 ],
 "metadata": {
  "interpreter": {
   "hash": "369f2c481f4da34e4445cda3fffd2e751bd1c4d706f27375911949ba6bb62e1c"
  },
  "kernelspec": {
   "display_name": "Python 3.10.4 64-bit",
   "language": "python",
   "name": "python3"
  },
  "language_info": {
   "codemirror_mode": {
    "name": "ipython",
    "version": 3
   },
   "file_extension": ".py",
   "mimetype": "text/x-python",
   "name": "python",
   "nbconvert_exporter": "python",
   "pygments_lexer": "ipython3",
   "version": "3.10.4"
  },
  "orig_nbformat": 4
 },
 "nbformat": 4,
 "nbformat_minor": 2
}
