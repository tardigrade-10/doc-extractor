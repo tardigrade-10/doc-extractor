{
 "cells": [
  {
   "cell_type": "code",
   "execution_count": null,
   "metadata": {},
   "outputs": [],
   "source": [
    "  import cv2\n",
    "  import numpy as np\n",
    "  \n",
    "  # choose codec according to format needed\n",
    "  fourcc = cv2.VideoWriter_fourcc(*'mp4v') \n",
    "  video = cv2.VideoWriter('video.avi', fourcc, 1, (width, height))\n",
    "\n",
    "  for j in range(0,5):\n",
    "     img = cv2.imread(str(i) + '.png')\n",
    "     video.write(img)\n",
    "\n",
    "  cv2.destroyAllWindows()\n",
    "  video.release()\n"
   ]
  }
 ],
 "metadata": {
  "language_info": {
   "name": "python"
  },
  "orig_nbformat": 4
 },
 "nbformat": 4,
 "nbformat_minor": 2
}
