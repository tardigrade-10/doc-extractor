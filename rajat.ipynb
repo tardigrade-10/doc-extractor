{
 "cells": [
  {
   "cell_type": "code",
   "execution_count": 49,
   "metadata": {},
   "outputs": [
    {
     "name": "stdout",
     "output_type": "stream",
     "text": [
      "10\n"
     ]
    }
   ],
   "source": [
    "def calculate(a=0,b=0,c=\"add\"):\n",
    "    z=0\n",
    "    if c==\"subtruct\":\n",
    "        z=a-b\n",
    "\n",
    "    elif c==\"add\":\n",
    "        z=a+b\n",
    "\n",
    "    elif c==\"multiply\":\n",
    "        z=a*b\n",
    "\n",
    "    elif c==\"divide\":\n",
    "        z=a/b   \n",
    "    return z\n",
    "\n",
    "ans=calculate(a = 10, c = \"subtruct\")\n",
    "\n",
    "  \n",
    "print(ans)\n"
   ]
  },
  {
   "cell_type": "code",
   "execution_count": 45,
   "metadata": {},
   "outputs": [
    {
     "name": "stdout",
     "output_type": "stream",
     "text": [
      "0\n"
     ]
    }
   ],
   "source": []
  },
  {
   "cell_type": "code",
   "execution_count": null,
   "metadata": {},
   "outputs": [],
   "source": []
  }
 ],
 "metadata": {
  "kernelspec": {
   "display_name": "Python 3.10.4 64-bit",
   "language": "python",
   "name": "python3"
  },
  "language_info": {
   "codemirror_mode": {
    "name": "ipython",
    "version": 3
   },
   "file_extension": ".py",
   "mimetype": "text/x-python",
   "name": "python",
   "nbconvert_exporter": "python",
   "pygments_lexer": "ipython3",
   "version": "3.10.4"
  },
  "orig_nbformat": 4,
  "vscode": {
   "interpreter": {
    "hash": "369f2c481f4da34e4445cda3fffd2e751bd1c4d706f27375911949ba6bb62e1c"
   }
  }
 },
 "nbformat": 4,
 "nbformat_minor": 2
}
